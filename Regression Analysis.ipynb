{
 "cells": [
  {
   "cell_type": "code",
   "execution_count": 1,
   "metadata": {},
   "outputs": [
    {
     "name": "stderr",
     "output_type": "stream",
     "text": [
      "Warning message:\n",
      "\"package 'readxl' was built under R version 3.6.3\""
     ]
    }
   ],
   "source": [
    "library(readxl)"
   ]
  },
  {
   "cell_type": "code",
   "execution_count": 2,
   "metadata": {},
   "outputs": [
    {
     "data": {
      "text/html": [
       "<table>\n",
       "<thead><tr><th scope=col>x</th><th scope=col>y</th></tr></thead>\n",
       "<tbody>\n",
       "\t<tr><td>0.02</td><td> 47 </td></tr>\n",
       "\t<tr><td>0.02</td><td> 76 </td></tr>\n",
       "\t<tr><td>0.06</td><td> 97 </td></tr>\n",
       "\t<tr><td>0.06</td><td>107 </td></tr>\n",
       "\t<tr><td>0.11</td><td>123 </td></tr>\n",
       "\t<tr><td>0.11</td><td>139 </td></tr>\n",
       "</tbody>\n",
       "</table>\n"
      ],
      "text/latex": [
       "\\begin{tabular}{r|ll}\n",
       " x & y\\\\\n",
       "\\hline\n",
       "\t 0.02 &  47 \\\\\n",
       "\t 0.02 &  76 \\\\\n",
       "\t 0.06 &  97 \\\\\n",
       "\t 0.06 & 107 \\\\\n",
       "\t 0.11 & 123 \\\\\n",
       "\t 0.11 & 139 \\\\\n",
       "\\end{tabular}\n"
      ],
      "text/markdown": [
       "\n",
       "| x | y |\n",
       "|---|---|\n",
       "| 0.02 |  47  |\n",
       "| 0.02 |  76  |\n",
       "| 0.06 |  97  |\n",
       "| 0.06 | 107  |\n",
       "| 0.11 | 123  |\n",
       "| 0.11 | 139  |\n",
       "\n"
      ],
      "text/plain": [
       "  x    y  \n",
       "1 0.02  47\n",
       "2 0.02  76\n",
       "3 0.06  97\n",
       "4 0.06 107\n",
       "5 0.11 123\n",
       "6 0.11 139"
      ]
     },
     "metadata": {},
     "output_type": "display_data"
    }
   ],
   "source": [
    "df <- read_excel(\"data-Q1 (Puromycin).xlsx\")\n",
    "head(df)"
   ]
  },
  {
   "cell_type": "code",
   "execution_count": 3,
   "metadata": {},
   "outputs": [],
   "source": [
    "x <- df$x\n",
    "y <- df$y"
   ]
  },
  {
   "cell_type": "code",
   "execution_count": 4,
   "metadata": {},
   "outputs": [],
   "source": [
    "F <- function(x,theta1,theta2){\n",
    "    theta1*x/(x+theta2)\n",
    "}\n",
    "Z1 <- function(x,theta2){\n",
    "    x/(theta2+x)\n",
    "}\n",
    "Z2 <- function(x,theta1,theta2){\n",
    "    -theta1*x/(theta2+x)^2\n",
    "}\n",
    "S_itha <- function(f,y){\n",
    "    sum((y-f)^2)\n",
    "}"
   ]
  },
  {
   "cell_type": "code",
   "execution_count": 5,
   "metadata": {},
   "outputs": [],
   "source": [
    "# Given\n",
    "theta1 <- 205\n",
    "theta2 <- 0.08"
   ]
  },
  {
   "cell_type": "code",
   "execution_count": 6,
   "metadata": {},
   "outputs": [],
   "source": [
    "f0 <- F(x,theta1,theta2)\n",
    "s <- S_itha(f0,y)\n",
    "iter = 10\n",
    "thres = 10^-6\n",
    "cost_func <- list()\n",
    "for (i in 1:iter){\n",
    "    theta1_iter <- theta1\n",
    "    theta2_iter <- theta2\n",
    "    f_iter <- f0\n",
    "    s_iter <- s\n",
    "    z1 <- Z1(x,theta2_iter)\n",
    "    z2 <- Z2(x,theta1_iter,theta2_iter)\n",
    "    Z <- matrix(c(z1,z2), ncol=2)\n",
    "    beta_hat_0 <- solve(t(Z)%*%Z)%*%(t(Z))%*%(matrix(y-f_iter))\n",
    "    theta1 <- beta_hat_0[1,] + theta1_iter\n",
    "    theta2 <- beta_hat_0[2,] + theta2_iter\n",
    "    f0 <- F(x,theta1,theta2)\n",
    "    s <- S_itha(f0,y)\n",
    "    cost_func[i] <- (s_iter-s)\n",
    "    dif1 <- (theta1-theta1_iter)/theta1_iter\n",
    "    dif2 <- (theta2-theta2_iter)/theta2_iter\n",
    "    if(dif1<thres & dif2<thres)\n",
    "        break\n",
    "}"
   ]
  },
  {
   "cell_type": "code",
   "execution_count": 7,
   "metadata": {},
   "outputs": [
    {
     "data": {
      "image/png": "[encoded data removed]",
      "text/plain": [
       "Plot with title \"Plot of Fitted Nonlinear Regression Model\""
      ]
     },
     "metadata": {},
     "output_type": "display_data"
    }
   ],
   "source": [
    "# Figure 12.4\n",
    "plot(x,y, xlab=\"Concentration, x\", ylab=\"Velocity, y\",main=\"Plot of Fitted Nonlinear Regression Model\")\n",
    "lines(x,f0)"
   ]
  },
  {
   "cell_type": "code",
   "execution_count": 8,
   "metadata": {},
   "outputs": [
    {
     "data": {
      "image/png": "[encoded data removed]",
      "text/plain": [
       "Plot with title \"Plot of Residuals vs Predicted Values\""
      ]
     },
     "metadata": {},
     "output_type": "display_data"
    }
   ],
   "source": [
    "# Figure 12.5\n",
    "plot(f0, y-f0, xlab=\"yi hat\", ylab=\"ei\", main=\"Plot of Residuals vs Predicted Values\")\n",
    "abline(0,0)"
   ]
  },
  {
   "cell_type": "code",
   "execution_count": 9,
   "metadata": {},
   "outputs": [
    {
     "data": {
      "text/html": [
       "<ol>\n",
       "\t<li>1949.34238936296</li>\n",
       "\t<li>10.1847202637337</li>\n",
       "\t<li>0.0280444825611994</li>\n",
       "\t<li>0.00026286904517292</li>\n",
       "\t<li>2.44394186665886e-06</li>\n",
       "\t<li>2.269212018291e-08</li>\n",
       "\t<li>2.1032064978499e-10</li>\n",
       "</ol>\n"
      ],
      "text/latex": [
       "\\begin{enumerate}\n",
       "\\item 1949.34238936296\n",
       "\\item 10.1847202637337\n",
       "\\item 0.0280444825611994\n",
       "\\item 0.00026286904517292\n",
       "\\item 2.44394186665886e-06\n",
       "\\item 2.269212018291e-08\n",
       "\\item 2.1032064978499e-10\n",
       "\\end{enumerate}\n"
      ],
      "text/markdown": [
       "1. 1949.34238936296\n",
       "2. 10.1847202637337\n",
       "3. 0.0280444825611994\n",
       "4. 0.00026286904517292\n",
       "5. 2.44394186665886e-06\n",
       "6. 2.269212018291e-08\n",
       "7. 2.1032064978499e-10\n",
       "\n",
       "\n"
      ],
      "text/plain": [
       "[[1]]\n",
       "[1] 1949.342\n",
       "\n",
       "[[2]]\n",
       "[1] 10.18472\n",
       "\n",
       "[[3]]\n",
       "[1] 0.02804448\n",
       "\n",
       "[[4]]\n",
       "[1] 0.000262869\n",
       "\n",
       "[[5]]\n",
       "[1] 2.443942e-06\n",
       "\n",
       "[[6]]\n",
       "[1] 2.269212e-08\n",
       "\n",
       "[[7]]\n",
       "[1] 2.103206e-10\n"
      ]
     },
     "metadata": {},
     "output_type": "display_data"
    }
   ],
   "source": [
    "cost_func\n",
    "# It can be seen that the cost function is always decreasing"
   ]
  },
  {
   "cell_type": "code",
   "execution_count": 10,
   "metadata": {},
   "outputs": [],
   "source": [
    "# Try another theta\n",
    "theta1 = 700\n",
    "theta2 = 100"
   ]
  },
  {
   "cell_type": "code",
   "execution_count": 11,
   "metadata": {},
   "outputs": [],
   "source": [
    "# Run the same function\n",
    "f0 <- F(x,theta1,theta2)\n",
    "s <- S_itha(f0,y)\n",
    "iter = 10\n",
    "thres = 10^-6\n",
    "cost_func <- list()\n",
    "for (i in 1:iter){\n",
    "    theta1_iter <- theta1\n",
    "    theta2_iter <- theta2\n",
    "    f_iter <- f0\n",
    "    s_iter <- s\n",
    "    z1 <- Z1(x,theta2_iter)\n",
    "    z2 <- Z2(x,theta1_iter,theta2_iter)\n",
    "    Z <- matrix(c(z1,z2), ncol=2)\n",
    "    beta_hat_0 <- solve(t(Z)%*%Z)%*%(t(Z))%*%(matrix(y-f_iter))\n",
    "    theta1 <- beta_hat_0[1,] + theta1_iter\n",
    "    theta2 <- beta_hat_0[2,] + theta2_iter\n",
    "    f0 <- F(x,theta1,theta2)\n",
    "    s <- S_itha(f0,y)\n",
    "    cost_func[i] <- (s_iter-s)\n",
    "    dif1 <- (theta1-theta1_iter)/theta1_iter\n",
    "    dif2 <- (theta2-theta2_iter)/theta2_iter\n",
    "    if(dif1<thres & dif2<thres)\n",
    "        break\n",
    "}"
   ]
  },
  {
   "cell_type": "code",
   "execution_count": 12,
   "metadata": {},
   "outputs": [
    {
     "data": {
      "image/png": "[encoded data removed]",
      "text/plain": [
       "Plot with title \"Plot of Fitted Nonlinear Regression Model\""
      ]
     },
     "metadata": {},
     "output_type": "display_data"
    }
   ],
   "source": [
    "plot(x,y, xlab=\"Concentration, x\", ylab=\"Velocity, y\",main=\"Plot of Fitted Nonlinear Regression Model\")\n",
    "lines(x,f0)"
   ]
  },
  {
   "cell_type": "code",
   "execution_count": 13,
   "metadata": {},
   "outputs": [
    {
     "data": {
      "text/html": [
       "<ol class=list-inline>\n",
       "\t<li>0.138003861096634</li>\n",
       "\t<li>0.138003861096634</li>\n",
       "\t<li>0.414011606399463</li>\n",
       "\t<li>0.414011606399463</li>\n",
       "\t<li>0.759021331358434</li>\n",
       "\t<li>0.759021331358434</li>\n",
       "\t<li>1.51804289573836</li>\n",
       "\t<li>1.51804289573836</li>\n",
       "\t<li>3.86411102251255</li>\n",
       "\t<li>3.86411102251255</li>\n",
       "\t<li>7.59022379956452</li>\n",
       "\t<li>7.59022379956452</li>\n",
       "</ol>\n"
      ],
      "text/latex": [
       "\\begin{enumerate*}\n",
       "\\item 0.138003861096634\n",
       "\\item 0.138003861096634\n",
       "\\item 0.414011606399463\n",
       "\\item 0.414011606399463\n",
       "\\item 0.759021331358434\n",
       "\\item 0.759021331358434\n",
       "\\item 1.51804289573836\n",
       "\\item 1.51804289573836\n",
       "\\item 3.86411102251255\n",
       "\\item 3.86411102251255\n",
       "\\item 7.59022379956452\n",
       "\\item 7.59022379956452\n",
       "\\end{enumerate*}\n"
      ],
      "text/markdown": [
       "1. 0.138003861096634\n",
       "2. 0.138003861096634\n",
       "3. 0.414011606399463\n",
       "4. 0.414011606399463\n",
       "5. 0.759021331358434\n",
       "6. 0.759021331358434\n",
       "7. 1.51804289573836\n",
       "8. 1.51804289573836\n",
       "9. 3.86411102251255\n",
       "10. 3.86411102251255\n",
       "11. 7.59022379956452\n",
       "12. 7.59022379956452\n",
       "\n",
       "\n"
      ],
      "text/plain": [
       " [1] 0.1380039 0.1380039 0.4140116 0.4140116 0.7590213 0.7590213 1.5180429\n",
       " [8] 1.5180429 3.8641110 3.8641110 7.5902238 7.5902238"
      ]
     },
     "metadata": {},
     "output_type": "display_data"
    }
   ],
   "source": [
    "# There is no line since point (x,f0) is far from the coordinates (x,y) let's try to display f0\n",
    "f0\n",
    "# f0 is small enough and the regression line should be far from the (x,y) coordinate."
   ]
  },
  {
   "cell_type": "code",
   "execution_count": 14,
   "metadata": {},
   "outputs": [
    {
     "data": {
      "image/png": "[encoded data removed]",
      "text/plain": [
       "Plot with title \"Plot of Residuals vs Predicted Values\""
      ]
     },
     "metadata": {},
     "output_type": "display_data"
    }
   ],
   "source": [
    "plot(f0, y-f0, xlab=\"yi hat\", ylab=\"ei\", main=\"Plot of Residuals vs Predicted Values\")\n",
    "abline(0,0)\n",
    "# Same as the first graph conclusion"
   ]
  },
  {
   "cell_type": "code",
   "execution_count": 16,
   "metadata": {},
   "outputs": [],
   "source": [
    "# In conclusion, different theta will give different result. By taking theta1 = 700 and theta2 = 100, the nonlinear regression is\n",
    "# far from the data point. So, it is important to choose the appropriate theta."
   ]
  }
 ],
 "metadata": {
  "kernelspec": {
   "display_name": "R",
   "language": "R",
   "name": "ir"
  },
  "language_info": {
   "codemirror_mode": "r",
   "file_extension": ".r",
   "mimetype": "text/x-r-source",
   "name": "R",
   "pygments_lexer": "r",
   "version": "3.6.1"
  }
 },
 "nbformat": 4,
 "nbformat_minor": 4
}
